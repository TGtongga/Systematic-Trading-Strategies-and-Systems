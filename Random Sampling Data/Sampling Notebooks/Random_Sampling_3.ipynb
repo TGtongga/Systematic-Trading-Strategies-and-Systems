{
  "cells": [
    {
      "cell_type": "code",
      "execution_count": null,
      "metadata": {
        "colab": {
          "base_uri": "https://localhost:8080/"
        },
        "id": "klmR39WjkgkN",
        "outputId": "0f69f475-7895-49dd-9325-48f0d5df3bca"
      },
      "outputs": [],
      "source": [
        "pip install ta"
      ]
    },
    {
      "cell_type": "code",
      "execution_count": null,
      "metadata": {
        "id": "P62mSRQTkxDI"
      },
      "outputs": [],
      "source": [
        "# import all libraries\n",
        "import pandas as pd\n",
        "import yfinance as yf\n",
        "import seaborn as sns\n",
        "import matplotlib.pyplot as plt\n",
        "from ta.utils import dropna\n",
        "from ta.volatility import BollingerBands\n",
        "from ta.trend import ADXIndicator\n",
        "from ta.volatility import AverageTrueRange\n",
        "from ta.trend import SMAIndicator\n",
        "from ta.momentum import RSIIndicator\n",
        "from ta.volume import VolumeWeightedAveragePrice\n",
        "import math\n",
        "import pandas as pd\n",
        "import numpy as np\n",
        "import yfinance as yf"
      ]
    },
    {
      "cell_type": "code",
      "execution_count": null,
      "metadata": {
        "colab": {
          "base_uri": "https://localhost:8080/",
          "height": 73
        },
        "id": "8yCkfUrukxBW",
        "outputId": "108a9021-60ad-4f12-d775-75c4fc94069d"
      },
      "outputs": [],
      "source": [
        "uploaded = files.upload()"
      ]
    },
    {
      "cell_type": "code",
      "execution_count": null,
      "metadata": {
        "id": "mXWCAppLkw_k"
      },
      "outputs": [],
      "source": [
        "df = pd.read_csv('df3.csv')"
      ]
    },
    {
      "cell_type": "code",
      "execution_count": null,
      "metadata": {
        "colab": {
          "base_uri": "https://localhost:8080/",
          "height": 206
        },
        "id": "I2OKGh3-kw9k",
        "outputId": "daf4c332-58ec-4eeb-d356-66d986f9f4d6"
      },
      "outputs": [],
      "source": [
        "df.head()"
      ]
    },
    {
      "cell_type": "code",
      "execution_count": null,
      "metadata": {
        "colab": {
          "base_uri": "https://localhost:8080/",
          "height": 35
        },
        "id": "sQ96pnIEkw7q",
        "outputId": "7ca1be8d-56a1-4e58-a113-9ace4e3401ef"
      },
      "outputs": [],
      "source": [
        "df.iloc[0].list"
      ]
    },
    {
      "cell_type": "code",
      "execution_count": null,
      "metadata": {
        "id": "AjpsSGJKkw58"
      },
      "outputs": [],
      "source": []
    },
    {
      "cell_type": "code",
      "execution_count": null,
      "metadata": {
        "id": "iAv0KxKeC7pX"
      },
      "outputs": [],
      "source": [
        "class Common_Class():\n",
        "  \"\"\"\n",
        "  A common class to calculate the results for all strategies.\n",
        "  Key Terms;\n",
        "      - A bar is a unit of data at a given time, depends on the interval you choose, it provides you OHLCV and time info\n",
        "  Methods in class:\n",
        "  1. prepare_data()\n",
        "      - Loads the close prices of all stocks and calculates the return of each stock\n",
        "  2. close_graph(stock)\n",
        "      - A line plot showcasing the close prices of all stocks over the stated period (start - end)\n",
        "  3. return_date_price(stock)\n",
        "      - Returns the date and price of the stock at that given date\n",
        "  4. realised_balance(bar)\n",
        "      - Returns the realised capital in your account in a given bar\n",
        "  5. unrealised_balance(bar)\n",
        "      - Returns the unrealised capital in your account in a given bar\n",
        "  6. total_balance(bar)\n",
        "      - Unrealised + Realised\n",
        "  7. store_results()\n",
        "          - Stores the results in a dataframe\n",
        "  8. performance()\n",
        "      - Calculates the performance ratios that is used to evaluate performance of strategy\n",
        "      - Ratios used:\n",
        "          1. Sharpe Ratio\n",
        "          2, ROI (Return on investment)\n",
        "          3. Drawdown\n",
        "  9. performance_plots()\n",
        "      - Visualisations of returns of stocks VS strategy\n",
        "      - Plot 1: Movement of close prices of all stocks over stated period\n",
        "      - Plot 2: Histogram of strategy returns\n",
        "      - Plot 3: Strategy vs Instrument returns\n",
        "      - Plot 4: Drawdown\n",
        "      - Plot 5: Equity Curve\n",
        "  10. buy_order()\n",
        "      - Conducts a buy order upon fulfilling buy conditions of strategy\n",
        "  11. sell_order()\n",
        "      - Conducts a sell order upon fulfilling sell conditions of strategy\n",
        "  12. last_trade()\n",
        "      - Checks the last trade conducted\n",
        "  \"\"\"\n",
        "  def __init__(self, symbol, start, end, interval, capital, transcation_cost, verbose = True):\n",
        "\n",
        "    #new dicts as now there will be multiple stocks. Each stock will have its own position/quantity etc\n",
        "    self.all_data ={}\n",
        "    self.position = {}\n",
        "    self.quantity = {}\n",
        "    self.stoptrade = {}\n",
        "    self.boughtprice = {}\n",
        "\n",
        "    for stock in symbol:\n",
        "      self.quantity['{}'.format(stock)] = 0 #can also do at run strategy, but its different design\n",
        "\n",
        "    self.symbol = symbol\n",
        "    self.start = start\n",
        "    self.end = end\n",
        "    self.interval = interval\n",
        "    self.initial_capital = capital # this is the initial capital you want to trade with\n",
        "    self.capital = capital # this capital will change depending on trades\n",
        "    self.transaction_cost = transcation_cost # the transaction cost for trading\n",
        "    self.trades = 0 # Number of trades\n",
        "    self.verbose = verbose # if you want to see detailed output (logs)\n",
        "    self.stored_data = pd.DataFrame(columns = ['trade', 'date', 'position', 'price', 'symbol', 'quantity', 'capital']) # to store trade details\n",
        "\n",
        "    self.prepare_data() # prepares the data\n",
        "\n",
        "  def prepare_data(self):\n",
        "    # since we are building a common class for all types of strategy, we will not calcualte the moving averages now.\n",
        "    # we will calculate the returns though.\n",
        "    # Since most strategies utilise close prices we are only factoring close price. However, you can alter acoordingly.\n",
        "\n",
        "    for i in self.symbol:\n",
        "      stock_data = yf.Ticker(i)\n",
        "      hist_stock = stock_data.history(start = self.start, end = self.end, interval = self.interval)\n",
        "      bt_data = pd.DataFrame()\n",
        "      bt_data[\"Close_Price\"] = hist_stock[\"Close\"]\n",
        "      bt_data[\"Return\"] = np.log(bt_data[\"Close_Price\"] / bt_data[\"Close_Price\"].shift(1))\n",
        "      bt_data = bt_data.dropna()\n",
        "      self.all_data['{}'.format(i)] = bt_data\n",
        "\n",
        "  def close_graph(self, stock):\n",
        "    i = str(stock)\n",
        "    plt.figure(figsize=(15, 5))\n",
        "    plt.plot(self.all_data[i][\"Close_Price\"] ,color='black', label='Price', linestyle='dashed')\n",
        "    plt.xlabel(\"Days\")\n",
        "    plt.ylabel(\"Price\")\n",
        "    plt.title(\"Close Prices of {}\".format(i))\n",
        "    plt.legend()\n",
        "    plt.grid()\n",
        "    plt.show()\n",
        "\n",
        "  def return_date_price(self, bar, stock): #now we will also pass the stock as parameter\n",
        "    # A bar is a unit of data at a given time, depends on the interval you choose, it provides you OHLCV and time info\n",
        "    # Since we have modeled close prices, we will get the price and date\n",
        "    i = str(stock)\n",
        "    date = str(self.all_data[i].index[bar])[:10]  # :10 to only get the date\n",
        "    price = self.all_data[i].Close_Price.iloc[bar]\n",
        "    return date, price\n",
        "\n",
        "  def realised_balance(self, bar):\n",
        "    #returns the realised capital in your account at a given time period / bar\n",
        "    date, price = self.return_date_price(bar, self.symbol[0]) # only concerned with date so any stock will do\n",
        "    print(\"Date :{} | Realised Balance: {:0.1f}\".format(date,self.capital))\n",
        "\n",
        "  def unrealised_balance(self, bar):\n",
        "    #returns you the unrealised capital (trades in progress) in your account at a given time period / bar\n",
        "    ub = 0\n",
        "    for stock in self.symbol:\n",
        "      date, price = self.return_date_price(bar, stock)\n",
        "      ub =  ub + self.quantity['{}'.format(stock)] *price\n",
        "    #print(\"Date :{} | Unrealised Balance: {:0.1f}\".format(date,ub))\n",
        "\n",
        "  def total_balance(self, bar):\n",
        "    #Unrealised plus realised\n",
        "    ub = 0\n",
        "    for stock in self.symbol:\n",
        "      date, price = self.return_date_price(bar, stock)\n",
        "      ub =  ub + self.quantity['{}'.format(stock)] *price\n",
        "    tb = ub + self.capital\n",
        "    #print(\"Date :{} | Total Balance: {:0.1f}\".format(date,tb))\n",
        "    return tb\n",
        "\n",
        "  def store_results(self, trade, date, position, price, symbol, quantity, capital):\n",
        "    trade_detail = pd.DataFrame({'trade':pd.Series(trade), 'date':pd.Series(date), 'position':pd.Series(position), 'price':pd.Series(price), 'symbol':pd.Series(symbol), 'quantity':pd.Series(quantity), 'capital':pd.Series(capital) })\n",
        "    self.stored_data = pd.concat([self.stored_data, trade_detail])\n",
        "\n",
        "  def performance_plots(self):# once we have dataframe of daily account balances\n",
        "    Final_result_data = self.Final_result_data #saving time to write self everywhere\n",
        "    interval = str(self.interval)\n",
        "    f,ax = plt.subplots(2,3,figsize=(20,10))\n",
        "\n",
        "    #plot 1: Close Price os stock\n",
        "    plt.subplot(2, 3, 1)\n",
        "    for stock in self.symbol:\n",
        "      plt.plot(Final_result_data['Returns_{}'.format(stock)].cumsum(), label='{}'.format(stock), linestyle='dashed')\n",
        "    plt.title(\"Cum Log returns of included stocks\")\n",
        "    plt.xlabel(interval)\n",
        "    plt.legend()\n",
        "    plt.grid()\n",
        "\n",
        "    #plot 2: Histogram of dtrstegy returns\n",
        "    plt.subplot(2, 3, 2)\n",
        "    plt.hist(Final_result_data['capital_log_returns'], bins = 35, label='Strategy Returns', linestyle='dashed')\n",
        "    plt.title(\"Histogram of Strategy returns\")\n",
        "    plt.xlabel(interval)\n",
        "    plt.legend()\n",
        "    plt.grid()\n",
        "\n",
        "    #plot 3: Strategy vs Instrument\n",
        "    plt.subplot(2, 3, 3)\n",
        "    plt.plot(Final_result_data['Total_Stock_Returns_cum_sum'],color='red', label='Equal weighted stock Returns', linestyle='dashed')\n",
        "    plt.plot(Final_result_data['capital_regular_returns_cumsum'].dropna(), label ='Strategy Returns')\n",
        "    plt.title(\"Strategy Vs Stock Cum Return Curve\")\n",
        "    plt.xlabel(interval)\n",
        "    plt.legend()\n",
        "    plt.grid()\n",
        "\n",
        "    #plot 4: Drawdown\n",
        "    plt.subplot(2, 3, 4)\n",
        "    plt.plot(Final_result_data[\"capital_returns_log_cum_sum\"].dropna(), label='Cum log returns')\n",
        "    plt.plot(Final_result_data[\"Cum_Max\"].dropna(), label =  'Max Drawdown')\n",
        "    plt.title(\"Drawdown\")\n",
        "    plt.xlabel(interval)\n",
        "    plt.legend()\n",
        "    plt.grid()\n",
        "\n",
        "    #plot 5: Equity Curve\n",
        "    plt.subplot(2, 3,  5)\n",
        "    plt.plot(Final_result_data[\"capital\"].dropna(), label =  'Equity $')\n",
        "    plt.title(\"Equity Curve\")\n",
        "    plt.xlabel(interval)\n",
        "    plt.legend()\n",
        "    plt.grid()\n",
        "\n",
        "    plt.suptitle(\"Performance Plots\")\n",
        "    f.delaxes(ax[1,2]) # to delete the last subplot\n",
        "\n",
        "    plt.show()\n",
        "\n",
        "  def performance(self):\n",
        "    # stored data has  [trade, date, position, price, symbol, quantity, capital]\n",
        "    #B = self.stored_data # this will have many rows ; n(number of instruments) times more\n",
        "    #C = self.all_data # will need this to aggregate the returns from all stocks\n",
        "    #B.index = range(B.shape[0]/len(self.symbol))\n",
        "\n",
        "    #Since the stocks are not stored in arranged manner, we need to arrange them so that we can get the entry price and exit price for each day\n",
        "    #stored data has many rows, we will aggregate day wise\n",
        "\n",
        "    df = pd.DataFrame() # creating a new datframe to store aggregated values\n",
        "\n",
        "    df['capital'] = self.stored_data.groupby('date').agg({'capital': 'mean'})\n",
        "    # agrregating by mean because the run is done in loop (for all stocks in a list of symbols),\n",
        "    # so each stock \"date\" will have the same capital accounting for all stocks\n",
        "    # you can print and see different metrics..\n",
        "\n",
        "    # df.index = range(self.stored_data.shape[0]/len(self.symbol)) # shape[0] to get the length of rows of each stock and make an index for dataframe df\n",
        "\n",
        "    trade_start_date = df['capital'].index[0] # If intraday, then index needs to be adjusted with time, for daily, its fine\n",
        "    trade_end_date = df['capital'].index[-1] # This will work when interval is 1D\n",
        "\n",
        "    #Also, since we have multiple stocks, we need to calculate expected returns to comapre against the strategy\n",
        "\n",
        "    for stock in self.symbol:\n",
        "      A = (self.all_data[stock][trade_start_date:trade_end_date]['Return'].tolist()) # The returns are already log\n",
        "      df['Returns_{}'.format(stock)] = A\n",
        "    c= df.columns #fetch all the columns of dataframe\n",
        "    df['Total_Stock_Returns'] = (df.loc[:,c[-len(self.symbol):]].sum(1))/len(self.symbol) # Sums up last N columns of df and divide by number of stocks. Equal weightage\n",
        "    df['Total_Stock_Returns_cum_sum'] = df['Total_Stock_Returns'].cumsum()\n",
        "    df.index = range(df.shape[0])\n",
        "\n",
        "    df['capital_after_settlement'] = df['capital'].shift(-1)\n",
        "\n",
        "    # Since we are are utilising capital, we will calculate returns for SR based on daily capital/equity changes\n",
        "    #Remember, you can change the returns on investment based on the capital you trade\n",
        "\n",
        "    df['capital_regular_returns'] = (df['capital_after_settlement']/df['capital'] - 1)\n",
        "    df['capital_regular_returns_cumsum'] = df['capital_regular_returns'].cumsum()\n",
        "    df['capital_log_returns'] = np.log(df['capital_after_settlement']/df['capital'])\n",
        "    df[\"capital_returns_log_cum_sum\"] = df[\"capital_log_returns\"].cumsum()\n",
        "\n",
        "    # for drawdown calculation\n",
        "    df[\"Cum_Max\"] = df[\"capital_returns_log_cum_sum\"].cummax()\n",
        "    df[\"drawdown\"] = df[\"Cum_Max\"] - df[\"capital_returns_log_cum_sum\"]\n",
        "    # The maximum difference is refered as \"Drawdown\"\n",
        "\n",
        "    df.drop(df.index[df['capital_log_returns'] == 0.0], inplace=True) #Dropping the last column, as I already got the values through shift(1)\n",
        "    df = df.dropna()\n",
        "    #print(df.head())\n",
        "\n",
        "    '''\n",
        "    #arranging the columns for better readeability\n",
        "    cols =['trade','symbol','position','quantity','date', 'exit_date', 'price','exit_price',\\\n",
        "           'price_log_returns','price_log_returns_cum_sum','capital',\\\n",
        "          'capital_after_settlement', 'capital_regular_returns', 'capital_log_returns',\\\n",
        "           'capital_returns_log_cum_sum','Cum_Max','drawdown']\n",
        "    B = B[cols]\n",
        "    B.rename(columns = {'date':'entry_date', 'price':'entry_price'}, inplace = True)\n",
        "\n",
        "    '''\n",
        "\n",
        "    #storing the results in Final_result data\n",
        "    Final_result_data = df\n",
        "    #Final_result_data.head()\n",
        "\n",
        "    #Plot the equity curve\n",
        "    #plt.plot(Final_result_data['exit_date'],Final_result_data['capital_after_settlement'])\n",
        "    #Final_result_data[['exit_date', 'capital_after_settlement']].dropna().plot(figsize =(15,6), title = \"Equity /Capital Plot\")\n",
        "\n",
        "    print(\"=\" *50)\n",
        "    print(\"Performance Metrics\")\n",
        "\n",
        "    #Total Balance\n",
        "    print(\"The total capital at end of strategy: {:0.1f}\".format(self.capital))\n",
        "\n",
        "    # Annual gross expected returns\n",
        "    daily_log_mean_ret = Final_result_data['capital_log_returns'].mean()\n",
        "    annual_log_ret = 252 * daily_log_mean_ret\n",
        "    annual_regular_return = (np.exp(annual_log_ret) -1)*100\n",
        "    print(\"The annual regular returns: {:0.2f} %\".format(annual_regular_return))\n",
        "\n",
        "    # Annual std deviation\n",
        "    daily_regular_std = (np.exp(Final_result_data['capital_log_returns'])-1).std()\n",
        "    annual_regular_std =  daily_regular_std * (252 **0.5) *100\n",
        "    print(\"The annual regular std deviation: {:0.2f} %\".format(annual_regular_std))\n",
        "\n",
        "    #Annual Sharpe Ratio\n",
        "    SR = annual_regular_return / annual_regular_std\n",
        "    print(\"The annual Sharpe Ratio: {:0.2f}\".format(SR))\n",
        "\n",
        "    #The strategy returns on investment in percent\n",
        "\n",
        "    #Total_Log_ret = Final_result_data['capital_log_returns'].sum()\n",
        "    #Total_Log_ret\n",
        "    #Regular_ROI = (np.exp(Total_Log_ret) - 1) *100\n",
        "    #print(\"The returns on investment from {} to {} by this strategy is {:0.2f} %\".format(self.start, self.end, Regular_ROI))\n",
        "\n",
        "    # the above method will also produce same result\n",
        "\n",
        "    returns = (self.capital - self.initial_capital) /self.initial_capital *100\n",
        "    print(\"The returns on investment from {} to {} by this strategy is {:0.1f} %\".format(self.start, self.end, returns))\n",
        "\n",
        "    #Calculate Drawdown\n",
        "    #Final_result_data[[\"capital_returns_log_cum_sum\", \"Cum_Max\"]].dropna().plot(figsize =(15,6), title = \"Drawdown Plot\")\n",
        "\n",
        "    Drawdown = Final_result_data[\"drawdown\"].max()*100\n",
        "    print(\"The maximum drawdown: {:.2f} %\".format(Drawdown))\n",
        "\n",
        "    zero_periods = Final_result_data[Final_result_data['drawdown'] == 0]\n",
        "    delta_values = (zero_periods.index[1:] - zero_periods.index[:-1])\n",
        "    print(\"The maximum drawdown period: {:.2f} days\".format(delta_values.max()))\n",
        "\n",
        "    #Annual Sortino Ratio\n",
        "    #Calculate the sortino ratio from the Final result data\n",
        "    #sortino = ...\n",
        "    #print(\"The annual Sortino Ratio: {:0.2f}\".format(sortino))\n",
        "\n",
        "    #Calculate any other ratio you want...\n",
        "\n",
        "    #Total trades\n",
        "    print(\"The total trades taken by the strategy: {}\".format(self.trades))\n",
        "\n",
        "\n",
        "    print(\"=\" *50)\n",
        "\n",
        "    self.Final_result_data = Final_result_data\n",
        "    #print(self.Final_result_data.head())\n",
        "\n",
        "\n",
        "  def buy_order(self,bar,stock,quantity=None, dollar =None ):\n",
        "    date, price = self.return_date_price(bar,stock)\n",
        "    if quantity == None:\n",
        "      quantity = int(dollar/price)\n",
        "    self.capital = self.capital - ((quantity * price)*(1 + self.transaction_cost)) # capital will be lost in buying\n",
        "    self.quantity['{}'.format(stock)] = self.quantity['{}'.format(stock)] + quantity\n",
        "    self.trades = self.trades + 1\n",
        "    self.position['{}'.format(stock)] = 1\n",
        "    tb = self.total_balance(bar)\n",
        "    #self.quantity['{}'.format(stock)]*price + self.capital # this is just for one stock, however, I need for all the stocks\n",
        "    self.store_results(self.trades, date, self.position['{}'.format(stock)], price, stock, quantity, tb)\n",
        "    self.boughtprice['{}'.format(stock)] = price\n",
        "\n",
        "\n",
        "    if self.verbose:\n",
        "      print(\"Bought {} shares of {} at {:0.1f} per share worth {:0.1f} $\".format(quantity,stock, price, quantity * price))\n",
        "      print('Total quantity for {} is {}'.format(stock,self.quantity['{}'.format(stock)]))\n",
        "      self.realised_balance(bar)\n",
        "      #self.unrealised_balance(bar)\n",
        "      #self.total_balance(bar)\n",
        "\n",
        "\n",
        "  def sell_order(self,bar,stock, quantity=None, dollar=None ):\n",
        "    date, price = self.return_date_price(bar, stock)\n",
        "    if quantity == None:\n",
        "      quantity = int(dollar/price)\n",
        "    self.capital = self.capital + ((quantity * price)*(1 - self.transaction_cost)) # capital will be added after selling\n",
        "    self.quantity['{}'.format(stock)] = self.quantity['{}'.format(stock)] - quantity\n",
        "    self.trades = self.trades + 1\n",
        "    self.position['{}'.format(stock)] = -1\n",
        "    tb = self.total_balance(bar) # to store the total balance due to all the stocks at the end of the day, so that I get 1 value at the EOD\n",
        "    self.store_results(self.trades, date, self.position['{}'.format(stock)], price, stock, quantity, tb)\n",
        "    self.boughtprice['{}'.format(stock)] = price\n",
        "\n",
        "\n",
        "    if self.verbose:\n",
        "      print(\"Sold {} shares of {} at {:0.1f} per share worth {:0.1f} $\".format(quantity,stock, price, quantity * price))\n",
        "      print('Total quantity for {} is {}'.format(stock,self.quantity['{}'.format(stock)]))\n",
        "      self.realised_balance(bar)\n",
        "      #self.unrealised_balance(bar)\n",
        "      #self.total_balance(bar)\n",
        "\n",
        "  def last_trade(self, bar):# thi sneeds to be check for all open positions of all stocks\n",
        "\n",
        "    for stock in self.symbol:\n",
        "      date, price = self.return_date_price(bar, stock)\n",
        "      last_quantity = self.quantity['{}'.format(stock)]\n",
        "      self.capital = self.capital + last_quantity * price\n",
        "      self.quantity['{}'.format(stock)] = 0 # as no more quantity now. all will be settled\n",
        "      self.trades = self.trades +1\n",
        "      if self.position['{}'.format(stock)] == -1: # if closing out a short position\n",
        "        last_quantity = - last_quantity # to keep a positve nymber in records. Note, self.quantity is always maintianing a +/- sign.\n",
        "        self.position['{}'.format(stock)] = 1 # to record we are buying to close out\n",
        "      else:\n",
        "        last_quantity =  last_quantity # to keep a positve nymber in records\n",
        "        self.position['{}'.format(stock)] = -1 # to record we are selling to close out\n",
        "      #self.position = 0\n",
        "      tb = self.total_balance(bar)\n",
        "      self.store_results(self.trades, date, self.position['{}'.format(stock)], price, stock, last_quantity, tb)\n",
        "\n",
        "      if self.verbose:\n",
        "        print(\"Closed open trades for {} shares of {} at {:0.1f} per share worth {:0.1f} $\".format(last_quantity,stock, price, last_quantity * price))"
      ]
    },
    {
      "cell_type": "code",
      "execution_count": null,
      "metadata": {
        "id": "ZThu-uIRDc6F"
      },
      "outputs": [],
      "source": [
        "class MA_RSI_Strategy(Common_Class):\n",
        "  \"\"\"\n",
        "    A class dictating our strategy conditions and the corresponding actions. This class inherits the Common_Class above.\n",
        "    Methods in class:\n",
        "    1. go_long(bar, stock):\n",
        "        - Actions to conduct when a long position is taken\n",
        "    2. go_short(bar, stock):\n",
        "        - Actions to conduct when a short position is taken\n",
        "    3. run_strategy(STMA_window, LTMA_window, RSI_window, upper_bound, lower_bound, stop_loss, take_profit):\n",
        "        - Strategy conditions:\n",
        "            - Long: LTMA > STMA and RSI < lower_bound\n",
        "            - Short: LTMA < STMA and RSI > upper_bound\n",
        "  \"\"\"\n",
        "\n",
        "  def go_long(self, bar, stock, quantity = None, dollar = None): # either previously in position or fresh position\n",
        "    if self.position['{}'.format(stock)] == -1:\n",
        "      self.position['{}'.format(stock)] = 0\n",
        "      self.buy_order(bar,stock, quantity = -self.quantity['{}'.format(stock)]) #to clear previous short position and therefore negative quantity.(already in position, thats why negative)\n",
        "      if dollar == 0: # stop loss or take profit condition\n",
        "        self.stoptrade['{}'.format(stock)] = -1\n",
        "        return None\n",
        "    if quantity:\n",
        "      self.buy_order (bar, stock, quantity = quantity) # to create new fresh order\n",
        "      self.stoptrade['{}'.format(stock)] = 0\n",
        "    elif dollar:\n",
        "      if dollar == 'all':\n",
        "        dollar = self.capital\n",
        "      else:\n",
        "        dollar = self.capital/len(self.symbol)\n",
        "      self.buy_order(bar, stock, dollar = dollar)\n",
        "      self.stoptrade['{}'.format(stock)] = 0\n",
        "\n",
        "  def go_short(self, bar, stock, quantity = None, dollar = None):\n",
        "    if self.position['{}'.format(stock)] == 1:\n",
        "      self.position['{}'.format(stock)] = 0\n",
        "      self.sell_order(bar,stock, quantity = self.quantity['{}'.format(stock)]) #to clear previous long vposition\n",
        "      if dollar == 0: # stop loss or take profit condition\n",
        "        self.stoptrade['{}'.format(stock)] = 1\n",
        "        return None\n",
        "    if quantity:\n",
        "      self.sell_order (bar, stock, quantity = quantity) # to create new fresh order\n",
        "    elif dollar:\n",
        "      if dollar == 'all':\n",
        "        dollar = self.capital\n",
        "      else:\n",
        "        dollar = self.capital/len(self.symbol)\n",
        "      self.sell_order(bar, stock, dollar = dollar)\n",
        "      self.stoptrade['{}'.format(stock)] = 0\n",
        "\n",
        "  def run_strategy(self, STMA_window, LTMA_window, RSI_window, upper_bound, lower_bound, stop_loss, take_profit): # add the parameters according to the strategy\n",
        "    self.stop = False # I will use this to make sure NO trading when balance = 0 OR lost all money\n",
        "    self.trades = 0\n",
        "    self.capital = self.initial_capital\n",
        "\n",
        "\n",
        "    #Preparing data with LTMA and STMA so that can check crossovers. Also initialising with 0 quantity and 0 position\n",
        "\n",
        "    for stock in self.symbol:\n",
        "      self.quantity['{}'.format(stock)] = 0\n",
        "      self.position['{}'.format(stock)] = 0\n",
        "\n",
        "      indicator_1 = SMAIndicator(close = self.all_data['{}'.format(stock)][\"Close_Price\"], window = STMA_window, fillna= False)\n",
        "      STMA = indicator_1.sma_indicator()\n",
        "\n",
        "      indicator_2 = SMAIndicator(close = self.all_data['{}'.format(stock)][\"Close_Price\"], window = LTMA_window, fillna= False)\n",
        "      LTMA = indicator_2.sma_indicator()\n",
        "\n",
        "      self.all_data['{}'.format(stock)]['STMA_{}'.format(stock)] = STMA\n",
        "      self.all_data['{}'.format(stock)]['LTMA_{}'.format(stock)] = LTMA\n",
        "\n",
        "      C = RSIIndicator(close = self.all_data['{}'.format(stock)][\"Close_Price\"], window= RSI_window, fillna = False)\n",
        "      self.all_data['{}'.format(stock)]['RSI_{}'.format(stock)] = C.rsi()\n",
        "\n",
        "      #initialise the bought-in price and indicator for take profit/stop loss\n",
        "      self.stoptrade['{}'.format(stock)] = 0 #1 indicates a previous take profit/stop loss action at long position, -1 indicates a previous action at short positin\n",
        "      date, price = self.return_date_price(max(LTMA_window, RSI_window), stock) #initialise with first price\n",
        "      self.boughtprice['{}'.format(stock)] = price\n",
        "\n",
        "    for bar in range(max(LTMA_window, RSI_window), len(self.all_data['{}'.format(self.symbol[0])])): # from the available data bar to the last data bar\n",
        "      #Making a func so that no trade if balance goes below 0\n",
        "\n",
        "      tb = self.total_balance(bar)\n",
        "      if tb < 0:\n",
        "        print(\"negative capital\")\n",
        "        self.last_trade(bar)\n",
        "        self.stop = True\n",
        "        break\n",
        "\n",
        "      for stock in self.symbol:\n",
        "        date, price = self.return_date_price(bar, stock)\n",
        "\n",
        "\n",
        "        if self.position['{}'.format(stock)] in [0,-1]: # checking no position or short position\n",
        "          if self.position['{}'.format(stock)] in [-1]: # check for price change to stop loss/take profit when in position\n",
        "            # buy to stop loss or take profit\n",
        "            if price/self.boughtprice['{}'.format(stock)] - 1 >= stop_loss or price/self.boughtprice['{}'.format(stock)] - 1 <= -take_profit:\n",
        "              self.go_long(bar,stock, dollar = 0)\n",
        "          # go long if condition is satisfied and the previous trade is not take profit/stop loss at long position\n",
        "          if (self.all_data['{}'.format(stock)]['STMA_{}'.format(stock)].iloc[bar] > self.all_data['{}'.format(stock)]['LTMA_{}'.format(stock)].iloc[bar]\\\n",
        "          or self.all_data['{}'.format(stock)]['RSI_{}'.format(stock)].iloc[bar] < lower_bound) and self.stoptrade['{}'.format(stock)] != 1:\n",
        "             self.go_long(bar,stock, dollar = self.capital/len(self.symbol)) # go with equal money # Make sure to enter less than initila capital\n",
        "             #print(\"--------\")\n",
        "             continue # as I am storing data for SR calculations. Dont wnat duplication\n",
        "\n",
        "        if self.position['{}'.format(stock)] in [0,1]: # checking no position or long position\n",
        "          if self.position['{}'.format(stock)] in [1]: # check for price change to stop loss/take profit when in position\n",
        "            # sell to stop loss or take profit\n",
        "            if price/self.boughtprice['{}'.format(stock)] - 1 <= -stop_loss or price/self.boughtprice['{}'.format(stock)] - 1 >= take_profit:\n",
        "              self.go_short(bar,stock, dollar = 0)\n",
        "          if (self.all_data['{}'.format(stock)]['STMA_{}'.format(stock)].iloc[bar] < self.all_data['{}'.format(stock)]['LTMA_{}'.format(stock)].iloc[bar]\\\n",
        "            or self.all_data['{}'.format(stock)]['RSI_{}'.format(stock)].iloc[bar] > upper_bound) and self.stoptrade['{}'.format(stock)] != -1:\n",
        "            self.go_short(bar,stock, dollar =self.capital/len(self.symbol)) # go with equal money\n",
        "            #print(\"--------\")\n",
        "            continue\n",
        "\n",
        "        #-----Storing all the values for calculating Sharpe-----\n",
        "        store_quantity = abs(self.quantity['{}'.format(stock)]) # so that I want just the positive numbers in my performance table. I will calculate +/- based on position sign\n",
        "        tb = self.total_balance(bar)\n",
        "        self.store_results(0, date, self.position['{}'.format(stock)], price, stock, store_quantity, tb)\n",
        "\n",
        "    #print(\"=\" *50)\n",
        "    #print(\"End of last bar\") Now the bar ends, bar is at the last bar value.\n",
        "    #print(\"=\" *50)\n",
        "    if self.stop == False: # to make sure not to run this func 2 times when early exit due to negative balance\n",
        "      self.last_trade(bar)  # amke sure the crossover happens, give more time\n"
      ]
    },
    {
      "cell_type": "code",
      "execution_count": null,
      "metadata": {
        "id": "4DRdLo-VrmE8"
      },
      "outputs": [],
      "source": [
        "top_20_models = []\n",
        "\n",
        "first_10 = df.iloc[:10].list\n",
        "second_10 = df.iloc[10:20].list\n",
        "third_10 = df.iloc[20:30].list\n",
        "fourth_10 = df.iloc[30:40].list\n",
        "fifth_10 = df.iloc[40:50].list\n",
        "sixth_10 = df.iloc[50:60].list\n",
        "seventh_10 = df.iloc[60:70].list\n",
        "eighth_10 = df.iloc[70:80].list\n",
        "nineth_10 = df.iloc[80:90].list\n",
        "tenth_10 = df.iloc[90:100].list\n",
        "eleventh_10 = df.iloc[100:110].list\n",
        "twelfth_10 = df.iloc[110:120].list\n",
        "thirteenth_10 = df.iloc[120:130].list\n",
        "fourtheeth_10 = df.iloc[130:140].list\n",
        "fifteenth_10 = df.iloc[140:150].list\n",
        "sixteenth_10 = df.iloc[150:160].list\n",
        "seventeeth_10 = df.iloc[160:170].list\n",
        "eighteenth_10 = df.iloc[170:180].list\n",
        "nineteenth_10 = df.iloc[180:190].list\n",
        "twentieth_10 = df.iloc[190:].list"
      ]
    },
    {
      "cell_type": "markdown",
      "metadata": {
        "id": "jjWilTqlx98p"
      },
      "source": [
        "## 1st Run"
      ]
    },
    {
      "cell_type": "code",
      "execution_count": null,
      "metadata": {
        "colab": {
          "base_uri": "https://localhost:8080/",
          "height": 1000
        },
        "id": "Fxh-BMtNqHJ5",
        "outputId": "2b461bb7-812f-4244-89fd-3d8474206918"
      },
      "outputs": [],
      "source": [
        "model_1 =[]\n",
        "\n",
        "for i in range(len(first_10)):\n",
        "    stocks = eval(first_10[i])\n",
        "    A = MA_RSI_Strategy(stocks, '2016-01-01', '2019-12-31',\"1d\", 500000, 0.00, False)\n",
        "    A.run_strategy(50,200, 15, 70, 30, 0.25, 0.05)\n",
        "    A.performance()\n",
        "    A.performance_plots()\n",
        "    model_1.append((A.capital - A.initial_capital) /A.initial_capital *100)"
      ]
    },
    {
      "cell_type": "code",
      "execution_count": null,
      "metadata": {
        "colab": {
          "base_uri": "https://localhost:8080/"
        },
        "id": "jz3EYFxMrFTd",
        "outputId": "39e69381-c550-4154-bfd1-305f37235cb1"
      },
      "outputs": [],
      "source": [
        "model_result = np.array(model_1)\n",
        "sorted_index = np.argsort(model_1)\n",
        "sorted_index = np.flip(sorted_index)\n",
        "sorted_index = sorted_index.tolist()\n",
        "\n",
        "top_20_models.append({'first_10':{sorted_index[0],model_result[sorted_index[0]]}})\n",
        "for index in sorted_index:\n",
        "  print('ROI for model',str(index),\"is\", model_result[index])"
      ]
    },
    {
      "cell_type": "markdown",
      "metadata": {
        "id": "Z6oDGX4Dx6r_"
      },
      "source": [
        "## 2nd Run"
      ]
    },
    {
      "cell_type": "code",
      "execution_count": null,
      "metadata": {
        "colab": {
          "base_uri": "https://localhost:8080/",
          "height": 1000
        },
        "id": "pJZ_mGFAvWLI",
        "outputId": "181a441f-f5e7-4591-9c7f-a5b0070fe8f9"
      },
      "outputs": [],
      "source": [
        "model_2 =[]\n",
        "\n",
        "for i in range(len(second_10)):\n",
        "    stocks = eval(second_10[i+10])\n",
        "    A = MA_RSI_Strategy(stocks, '2016-01-01', '2019-12-31',\"1d\", 500000, 0.00, False)\n",
        "    A.run_strategy(50,200, 15, 70, 30, 0.25, 0.05)\n",
        "    A.performance()\n",
        "    A.performance_plots()\n",
        "    model_2.append((A.capital - A.initial_capital) /A.initial_capital *100)"
      ]
    },
    {
      "cell_type": "code",
      "execution_count": null,
      "metadata": {
        "colab": {
          "base_uri": "https://localhost:8080/"
        },
        "id": "9jgUSTYpw1v9",
        "outputId": "e887e926-bc7e-49e8-c92f-43ef565245c3"
      },
      "outputs": [],
      "source": [
        "model_result = np.array(model_2)\n",
        "sorted_index = np.argsort(model_2)\n",
        "sorted_index = np.flip(sorted_index)\n",
        "sorted_index = sorted_index.tolist()\n",
        "\n",
        "top_20_models.append({'second_10':{sorted_index[0],model_result[sorted_index[0]]}})\n",
        "for index in sorted_index:\n",
        "  print('ROI for model',str(index),\"is\", model_result[index])"
      ]
    },
    {
      "cell_type": "markdown",
      "metadata": {
        "id": "JezcqEOByOxL"
      },
      "source": [
        "## 3rd Run"
      ]
    },
    {
      "cell_type": "code",
      "execution_count": null,
      "metadata": {
        "colab": {
          "base_uri": "https://localhost:8080/",
          "height": 1000
        },
        "id": "3exJta2pyPx3",
        "outputId": "31e4382e-ddcf-497c-ff36-2dfa0bf68cae"
      },
      "outputs": [],
      "source": [
        "model_3 =[]\n",
        "\n",
        "for i in range(len(third_10)):\n",
        "    stocks = eval(third_10[i+20])\n",
        "    A = MA_RSI_Strategy(stocks, '2016-01-01', '2019-12-31',\"1d\", 500000, 0.00, False)\n",
        "    A.run_strategy(50,200, 15, 70, 30, 0.25, 0.05)\n",
        "    A.performance()\n",
        "    A.performance_plots()\n",
        "    model_3.append((A.capital - A.initial_capital) /A.initial_capital *100)"
      ]
    },
    {
      "cell_type": "code",
      "execution_count": null,
      "metadata": {
        "colab": {
          "base_uri": "https://localhost:8080/"
        },
        "id": "NjJuwtHoyQtd",
        "outputId": "5b2d43f0-51cf-4cb9-8c17-d01186838aec"
      },
      "outputs": [],
      "source": [
        "model_result = np.array(model_3)\n",
        "sorted_index = np.argsort(model_3)\n",
        "sorted_index = np.flip(sorted_index)\n",
        "sorted_index = sorted_index.tolist()\n",
        "\n",
        "top_20_models.append({'third_10':{sorted_index[0],model_result[sorted_index[0]]}})\n",
        "for index in sorted_index:\n",
        "  print('ROI for model',str(index),\"is\", model_result[index])"
      ]
    },
    {
      "cell_type": "code",
      "execution_count": null,
      "metadata": {
        "colab": {
          "base_uri": "https://localhost:8080/"
        },
        "id": "Uni2zrGUyQph",
        "outputId": "accf9d2b-e13b-4ccc-ea95-cc59c2a4e453"
      },
      "outputs": [],
      "source": [
        "third_10"
      ]
    },
    {
      "cell_type": "code",
      "execution_count": null,
      "metadata": {
        "colab": {
          "base_uri": "https://localhost:8080/",
          "height": 1000
        },
        "id": "kpWtUGNnyQmY",
        "outputId": "a9a6de73-4d8e-4521-ebd3-06971f0f981a"
      },
      "outputs": [],
      "source": [
        "model_4 =[]\n",
        "\n",
        "for i in range(len(fourth_10)):\n",
        "    stocks = eval(fourth_10[i+30])\n",
        "    A = MA_RSI_Strategy(stocks, '2016-01-01', '2019-12-31',\"1d\", 500000, 0.00, False)\n",
        "    A.run_strategy(50,200, 15, 70, 30, 0.25, 0.05)\n",
        "    A.performance()\n",
        "    A.performance_plots()\n",
        "    model_4.append((A.capital - A.initial_capital) /A.initial_capital *100)"
      ]
    },
    {
      "cell_type": "code",
      "execution_count": null,
      "metadata": {
        "colab": {
          "base_uri": "https://localhost:8080/"
        },
        "id": "p8cODjrNyQkV",
        "outputId": "c731f090-de9b-47e4-f696-ce3c1ee57fd5"
      },
      "outputs": [],
      "source": [
        "model_result = np.array(model_4)\n",
        "sorted_index = np.argsort(model_4)\n",
        "sorted_index = np.flip(sorted_index)\n",
        "sorted_index = sorted_index.tolist()\n",
        "\n",
        "top_20_models.append({'fourth_10':{sorted_index[0],model_result[sorted_index[0]]}})\n",
        "for index in sorted_index:\n",
        "  print('ROI for model',str(index),\"is\", model_result[index])"
      ]
    },
    {
      "cell_type": "code",
      "execution_count": null,
      "metadata": {
        "id": "Qsgvyug4yQij"
      },
      "outputs": [],
      "source": []
    },
    {
      "cell_type": "code",
      "execution_count": null,
      "metadata": {
        "colab": {
          "base_uri": "https://localhost:8080/",
          "height": 1000
        },
        "id": "wa4EasA3yQgi",
        "outputId": "413d3bb0-87a5-45d2-b86c-e2ba265cb6bf"
      },
      "outputs": [],
      "source": [
        "model_5 =[]\n",
        "\n",
        "for i in range(len(fifth_10)):\n",
        "    stocks = eval(fifth_10[i+40])\n",
        "    A = MA_RSI_Strategy(stocks, '2016-01-01', '2019-12-31',\"1d\", 500000, 0.00, False)\n",
        "    A.run_strategy(50,200, 15, 70, 30, 0.25, 0.05)\n",
        "    A.performance()\n",
        "    A.performance_plots()\n",
        "    model_5.append((A.capital - A.initial_capital) /A.initial_capital *100)"
      ]
    },
    {
      "cell_type": "code",
      "execution_count": null,
      "metadata": {
        "colab": {
          "base_uri": "https://localhost:8080/"
        },
        "id": "t5lPXTPEyQek",
        "outputId": "b16b9694-d277-472f-e08a-442855e965d9"
      },
      "outputs": [],
      "source": [
        "model_result = np.array(model_5)\n",
        "sorted_index = np.argsort(model_5)\n",
        "sorted_index = np.flip(sorted_index)\n",
        "sorted_index = sorted_index.tolist()\n",
        "\n",
        "top_20_models.append({'fifth_10':{sorted_index[0],model_result[sorted_index[0]]}})\n",
        "for index in sorted_index:\n",
        "  print('ROI for model',str(index),\"is\", model_result[index])"
      ]
    },
    {
      "cell_type": "code",
      "execution_count": null,
      "metadata": {
        "id": "8jZC3frlyQcz"
      },
      "outputs": [],
      "source": []
    },
    {
      "cell_type": "code",
      "execution_count": null,
      "metadata": {
        "colab": {
          "base_uri": "https://localhost:8080/",
          "height": 1000
        },
        "id": "dbzoK54gyQZH",
        "outputId": "eef3d513-153d-43d7-b474-8a56acdae7f9"
      },
      "outputs": [],
      "source": [
        "model_6 =[]\n",
        "\n",
        "for i in range(len(sixth_10)):\n",
        "    stocks = eval(sixth_10[i+50])\n",
        "    A = MA_RSI_Strategy(stocks, '2016-01-01', '2019-12-31',\"1d\", 500000, 0.00, False)\n",
        "    A.run_strategy(50,200, 15, 70, 30, 0.25, 0.05)\n",
        "    A.performance()\n",
        "    A.performance_plots()\n",
        "    model_6.append((A.capital - A.initial_capital) /A.initial_capital *100)"
      ]
    },
    {
      "cell_type": "code",
      "execution_count": null,
      "metadata": {
        "colab": {
          "base_uri": "https://localhost:8080/"
        },
        "id": "LQHzzHoWyQXQ",
        "outputId": "c82c5d4e-9d4d-45d9-d140-9ee18771202c"
      },
      "outputs": [],
      "source": [
        "model_result = np.array(model_6)\n",
        "sorted_index = np.argsort(model_6)\n",
        "sorted_index = np.flip(sorted_index)\n",
        "sorted_index = sorted_index.tolist()\n",
        "\n",
        "top_20_models.append({'sixth_10':{sorted_index[0],model_result[sorted_index[0]]}})\n",
        "for index in sorted_index:\n",
        "  print('ROI for model',str(index),\"is\", model_result[index])"
      ]
    },
    {
      "cell_type": "code",
      "execution_count": null,
      "metadata": {
        "id": "F0-1BlaVyQVT"
      },
      "outputs": [],
      "source": []
    },
    {
      "cell_type": "code",
      "execution_count": null,
      "metadata": {
        "colab": {
          "base_uri": "https://localhost:8080/",
          "height": 1000
        },
        "id": "e6JxIE6xyQR3",
        "outputId": "7b845f98-9c9a-4de1-80bc-c66cadb0fa56"
      },
      "outputs": [],
      "source": [
        "model_7 =[]\n",
        "\n",
        "for i in range(len(seventh_10)):\n",
        "    stocks = eval(seventh_10[i+60])\n",
        "    A = MA_RSI_Strategy(stocks, '2016-01-01', '2019-12-31',\"1d\", 500000, 0.00, False)\n",
        "    A.run_strategy(50,200, 15, 70, 30, 0.25, 0.05)\n",
        "    A.performance()\n",
        "    A.performance_plots()\n",
        "    model_7.append((A.capital - A.initial_capital) /A.initial_capital *100)"
      ]
    },
    {
      "cell_type": "code",
      "execution_count": null,
      "metadata": {
        "colab": {
          "base_uri": "https://localhost:8080/"
        },
        "id": "oQVXqo-OyQP4",
        "outputId": "7fe61d8c-6849-4a18-d425-cfecb9998443"
      },
      "outputs": [],
      "source": [
        "model_result = np.array(model_7)\n",
        "sorted_index = np.argsort(model_7)\n",
        "sorted_index = np.flip(sorted_index)\n",
        "sorted_index = sorted_index.tolist()\n",
        "\n",
        "top_20_models.append({'seventh_10':{sorted_index[0],model_result[sorted_index[0]]}})\n",
        "for index in sorted_index:\n",
        "  print('ROI for model',str(index),\"is\", model_result[index])"
      ]
    },
    {
      "cell_type": "code",
      "execution_count": null,
      "metadata": {
        "id": "YpWVx_IKyQN5"
      },
      "outputs": [],
      "source": []
    },
    {
      "cell_type": "code",
      "execution_count": null,
      "metadata": {
        "colab": {
          "base_uri": "https://localhost:8080/",
          "height": 1000
        },
        "id": "8NhuSTug0BjA",
        "outputId": "79e92ff4-251c-4002-aa8a-04b2722c3148"
      },
      "outputs": [],
      "source": [
        "model_8 =[]\n",
        "\n",
        "for i in range(len(eighth_10)):\n",
        "    stocks = eval(eighth_10[i+70])\n",
        "    A = MA_RSI_Strategy(stocks, '2016-01-01', '2019-12-31',\"1d\", 500000, 0.00, False)\n",
        "    A.run_strategy(50,200, 15, 70, 30, 0.25, 0.05)\n",
        "    A.performance()\n",
        "    A.performance_plots()\n",
        "    model_8.append((A.capital - A.initial_capital) /A.initial_capital *100)"
      ]
    },
    {
      "cell_type": "code",
      "execution_count": null,
      "metadata": {
        "colab": {
          "base_uri": "https://localhost:8080/"
        },
        "id": "MZKuZSBR0BhS",
        "outputId": "7f1232ce-bd89-4b92-a3fc-85df2f0728ca"
      },
      "outputs": [],
      "source": [
        "model_result = np.array(model_8)\n",
        "sorted_index = np.argsort(model_8)\n",
        "sorted_index = np.flip(sorted_index)\n",
        "sorted_index = sorted_index.tolist()\n",
        "\n",
        "top_20_models.append({'eighth_10':{sorted_index[0],model_result[sorted_index[0]]}})\n",
        "for index in sorted_index:\n",
        "  print('ROI for model',str(index),\"is\", model_result[index])"
      ]
    },
    {
      "cell_type": "code",
      "execution_count": null,
      "metadata": {
        "id": "iZP8XGvO0BfW"
      },
      "outputs": [],
      "source": []
    },
    {
      "cell_type": "code",
      "execution_count": null,
      "metadata": {
        "colab": {
          "base_uri": "https://localhost:8080/",
          "height": 1000
        },
        "id": "zaXgg2I70Bdg",
        "outputId": "0d34b56b-775b-4402-ef46-36674645a0e4"
      },
      "outputs": [],
      "source": [
        "model_9 =[]\n",
        "\n",
        "for i in range(len(nineth_10)):\n",
        "    stocks = eval(nineth_10[i+80])\n",
        "    A = MA_RSI_Strategy(stocks, '2016-01-01', '2019-12-31',\"1d\", 500000, 0.00, False)\n",
        "    A.run_strategy(50,200, 15, 70, 30, 0.25, 0.05)\n",
        "    A.performance()\n",
        "    A.performance_plots()\n",
        "    model_9.append((A.capital - A.initial_capital) /A.initial_capital *100)"
      ]
    },
    {
      "cell_type": "code",
      "execution_count": null,
      "metadata": {
        "id": "YDykfPhl0BbS"
      },
      "outputs": [],
      "source": [
        "model_result = np.array(model_9)\n",
        "sorted_index = np.argsort(model_9)\n",
        "sorted_index = np.flip(sorted_index)\n",
        "sorted_index = sorted_index.tolist()\n",
        "\n",
        "top_20_models.append({'nineth_10':{sorted_index[0],model_result[sorted_index[0]]}})\n",
        "for index in sorted_index:\n",
        "  print('ROI for model',str(index),\"is\", model_result[index])"
      ]
    },
    {
      "cell_type": "code",
      "execution_count": null,
      "metadata": {
        "id": "OhabEI9h0Sbn"
      },
      "outputs": [],
      "source": []
    },
    {
      "cell_type": "code",
      "execution_count": null,
      "metadata": {
        "colab": {
          "base_uri": "https://localhost:8080/",
          "height": 1000
        },
        "id": "zYWBQ3y30SZi",
        "outputId": "4b0bf495-a8f0-42bf-860b-8aa75fec5927"
      },
      "outputs": [],
      "source": [
        "model_10 =[]\n",
        "\n",
        "for i in range(len(tenth_10)):\n",
        "    stocks = eval(tenth_10[i+90])\n",
        "    A = MA_RSI_Strategy(stocks, '2016-01-01', '2019-12-31',\"1d\", 500000, 0.00, False)\n",
        "    A.run_strategy(50,200, 15, 70, 30, 0.25, 0.05)\n",
        "    A.performance()\n",
        "    A.performance_plots()\n",
        "    model_10.append((A.capital - A.initial_capital) /A.initial_capital *100)"
      ]
    },
    {
      "cell_type": "code",
      "execution_count": null,
      "metadata": {
        "colab": {
          "base_uri": "https://localhost:8080/"
        },
        "id": "9UBQKBCj0SXm",
        "outputId": "0a487d87-b13b-4c2d-898c-e004fb0df248"
      },
      "outputs": [],
      "source": [
        "model_result = np.array(model_10)\n",
        "sorted_index = np.argsort(model_10)\n",
        "sorted_index = np.flip(sorted_index)\n",
        "sorted_index = sorted_index.tolist()\n",
        "\n",
        "top_20_models.append({'tenth_10':{sorted_index[0],model_result[sorted_index[0]]}})\n",
        "for index in sorted_index:\n",
        "  print('ROI for model',str(index),\"is\", model_result[index])"
      ]
    },
    {
      "cell_type": "code",
      "execution_count": null,
      "metadata": {
        "id": "97tbVkEa0SVo"
      },
      "outputs": [],
      "source": []
    },
    {
      "cell_type": "code",
      "execution_count": null,
      "metadata": {
        "colab": {
          "base_uri": "https://localhost:8080/",
          "height": 1000
        },
        "id": "jtFTSnwX0STp",
        "outputId": "cf5d74a9-c1e3-4d65-d4e3-ce1ce5984471"
      },
      "outputs": [],
      "source": [
        "model_11 =[]\n",
        "\n",
        "for i in range(len(eleventh_10)):\n",
        "    stocks = eval(eleventh_10[i+100])\n",
        "    A = MA_RSI_Strategy(stocks, '2016-01-01', '2019-12-31',\"1d\", 500000, 0.00, False)\n",
        "    A.run_strategy(50,200, 15, 70, 30, 0.25, 0.05)\n",
        "    A.performance()\n",
        "    A.performance_plots()\n",
        "    model_11.append((A.capital - A.initial_capital) /A.initial_capital *100)"
      ]
    },
    {
      "cell_type": "code",
      "execution_count": null,
      "metadata": {
        "id": "nJLhCn8T0SRv"
      },
      "outputs": [],
      "source": [
        "model_result = np.array(model_11)\n",
        "sorted_index = np.argsort(model_11)\n",
        "sorted_index = np.flip(sorted_index)\n",
        "sorted_index = sorted_index.tolist()\n",
        "\n",
        "top_20_models.append({'eleventh_10':{sorted_index[0],model_result[sorted_index[0]]}})\n",
        "for index in sorted_index:\n",
        "  print('ROI for model',str(index),\"is\", model_result[index])"
      ]
    },
    {
      "cell_type": "code",
      "execution_count": null,
      "metadata": {
        "id": "rf00njwJ0SOI"
      },
      "outputs": [],
      "source": []
    },
    {
      "cell_type": "code",
      "execution_count": null,
      "metadata": {
        "id": "08MOorzz0SEe"
      },
      "outputs": [],
      "source": [
        "model_12 =[]\n",
        "\n",
        "for i in range(len(twelfth_10)):\n",
        "    stocks = eval(twelfth_10[i+110])\n",
        "    A = MA_RSI_Strategy(stocks, '2016-01-01', '2019-12-31',\"1d\", 500000, 0.00, False)\n",
        "    A.run_strategy(50,200, 15, 70, 30, 0.25, 0.05)\n",
        "    A.performance()\n",
        "    A.performance_plots()\n",
        "    model_12.append((A.capital - A.initial_capital) /A.initial_capital *100)"
      ]
    },
    {
      "cell_type": "code",
      "execution_count": null,
      "metadata": {
        "id": "j2GMz-WX0SCl"
      },
      "outputs": [],
      "source": [
        "model_result = np.array(model_12)\n",
        "sorted_index = np.argsort(model_12)\n",
        "sorted_index = np.flip(sorted_index)\n",
        "sorted_index = sorted_index.tolist()\n",
        "\n",
        "top_20_models.append({'twelfth_10':{sorted_index[0],model_result[sorted_index[0]]}})\n",
        "for index in sorted_index:\n",
        "  print('ROI for model',str(index),\"is\", model_result[index])"
      ]
    },
    {
      "cell_type": "code",
      "execution_count": null,
      "metadata": {
        "id": "oRfV1S-T0SAs"
      },
      "outputs": [],
      "source": []
    },
    {
      "cell_type": "code",
      "execution_count": null,
      "metadata": {
        "id": "Cb-kr6HG0R-z"
      },
      "outputs": [],
      "source": [
        "model_13 =[]\n",
        "\n",
        "for i in range(len(thirteenth_10)):\n",
        "    stocks = eval(thirteenth_10[i+120])\n",
        "    A = MA_RSI_Strategy(stocks, '2016-01-01', '2019-12-31',\"1d\", 500000, 0.00, False)\n",
        "    A.run_strategy(50,200, 15, 70, 30, 0.25, 0.05)\n",
        "    A.performance()\n",
        "    A.performance_plots()\n",
        "    model_13.append((A.capital - A.initial_capital) /A.initial_capital *100)"
      ]
    },
    {
      "cell_type": "code",
      "execution_count": null,
      "metadata": {
        "id": "WA6d6nl20R8x"
      },
      "outputs": [],
      "source": [
        "model_result = np.array(model_13)\n",
        "sorted_index = np.argsort(model_13)\n",
        "sorted_index = np.flip(sorted_index)\n",
        "sorted_index = sorted_index.tolist()\n",
        "\n",
        "top_20_models.append({'thirteenth_10':{sorted_index[0],model_result[sorted_index[0]]}})\n",
        "for index in sorted_index:\n",
        "  print('ROI for model',str(index),\"is\", model_result[index])"
      ]
    },
    {
      "cell_type": "code",
      "execution_count": null,
      "metadata": {
        "id": "DFmd-9pS0R11"
      },
      "outputs": [],
      "source": []
    },
    {
      "cell_type": "code",
      "execution_count": null,
      "metadata": {
        "id": "JL7krwOX0Rz3"
      },
      "outputs": [],
      "source": [
        "model_14 =[]\n",
        "\n",
        "for i in range(len(fourtheeth_10)):\n",
        "    stocks = eval(fourtheeth_10[i+130])\n",
        "    A = MA_RSI_Strategy(stocks, '2016-01-01', '2019-12-31',\"1d\", 500000, 0.00, False)\n",
        "    A.run_strategy(50,200, 15, 70, 30, 0.25, 0.05)\n",
        "    A.performance()\n",
        "    A.performance_plots()\n",
        "    model_14.append((A.capital - A.initial_capital) /A.initial_capital *100)"
      ]
    },
    {
      "cell_type": "code",
      "execution_count": null,
      "metadata": {
        "id": "GpWnB2w60Rx3"
      },
      "outputs": [],
      "source": [
        "model_result = np.array(model_14)\n",
        "sorted_index = np.argsort(model_14)\n",
        "sorted_index = np.flip(sorted_index)\n",
        "sorted_index = sorted_index.tolist()\n",
        "\n",
        "top_20_models.append({'fourtheeth_10':{sorted_index[0],model_result[sorted_index[0]]}})\n",
        "for index in sorted_index:\n",
        "  print('ROI for model',str(index),\"is\", model_result[index])"
      ]
    },
    {
      "cell_type": "code",
      "execution_count": null,
      "metadata": {
        "id": "1l0qguY70RwD"
      },
      "outputs": [],
      "source": []
    },
    {
      "cell_type": "code",
      "execution_count": null,
      "metadata": {
        "id": "faTzuDKR0RuJ"
      },
      "outputs": [],
      "source": [
        "model_15 =[]\n",
        "\n",
        "for i in range(len(fifteenth_10)):\n",
        "    stocks = eval(fifteenth_10[i+140])\n",
        "    A = MA_RSI_Strategy(stocks, '2016-01-01', '2019-12-31',\"1d\", 500000, 0.00, False)\n",
        "    A.run_strategy(50,200, 15, 70, 30, 0.25, 0.05)\n",
        "    A.performance()\n",
        "    A.performance_plots()\n",
        "    model_15.append((A.capital - A.initial_capital) /A.initial_capital *100)"
      ]
    },
    {
      "cell_type": "code",
      "execution_count": null,
      "metadata": {
        "id": "LX6jSzha0RsX"
      },
      "outputs": [],
      "source": [
        "model_result = np.array(model_15)\n",
        "sorted_index = np.argsort(model_15)\n",
        "sorted_index = np.flip(sorted_index)\n",
        "sorted_index = sorted_index.tolist()\n",
        "\n",
        "top_20_models.append({'fifteenth_10':{sorted_index[0],model_result[sorted_index[0]]}})\n",
        "for index in sorted_index:\n",
        "  print('ROI for model',str(index),\"is\", model_result[index])"
      ]
    },
    {
      "cell_type": "code",
      "execution_count": null,
      "metadata": {
        "id": "N2ypr-dr0RqZ"
      },
      "outputs": [],
      "source": []
    },
    {
      "cell_type": "code",
      "execution_count": null,
      "metadata": {
        "id": "-OMNFEVc0Rod"
      },
      "outputs": [],
      "source": [
        "model_16 =[]\n",
        "\n",
        "for i in range(len(sixteenth_10)):\n",
        "    stocks = eval(sixteenth_10[i+150])\n",
        "    A = MA_RSI_Strategy(stocks, '2016-01-01', '2019-12-31',\"1d\", 500000, 0.00, False)\n",
        "    A.run_strategy(50,200, 15, 70, 30, 0.25, 0.05)\n",
        "    A.performance()\n",
        "    A.performance_plots()\n",
        "    model_16.append((A.capital - A.initial_capital) /A.initial_capital *100)"
      ]
    },
    {
      "cell_type": "code",
      "execution_count": null,
      "metadata": {
        "id": "9Rasu0jk1xxb"
      },
      "outputs": [],
      "source": [
        "model_result = np.array(model_16)\n",
        "sorted_index = np.argsort(model_16)\n",
        "sorted_index = np.flip(sorted_index)\n",
        "sorted_index = sorted_index.tolist()\n",
        "\n",
        "top_20_models.append({'sixteenth_10':{sorted_index[0],model_result[sorted_index[0]]}})\n",
        "for index in sorted_index:\n",
        "  print('ROI for model',str(index),\"is\", model_result[index])"
      ]
    },
    {
      "cell_type": "code",
      "execution_count": null,
      "metadata": {
        "id": "gbEMoIbc1xve"
      },
      "outputs": [],
      "source": []
    },
    {
      "cell_type": "code",
      "execution_count": null,
      "metadata": {
        "id": "mRZ9syj11xtk"
      },
      "outputs": [],
      "source": [
        "model_17 =[]\n",
        "\n",
        "for i in range(len(seventeeth_10)):\n",
        "    stocks = eval(seventeeth_10[i+160])\n",
        "    A = MA_RSI_Strategy(stocks, '2016-01-01', '2019-12-31',\"1d\", 500000, 0.00, False)\n",
        "    A.run_strategy(50,200, 15, 70, 30, 0.25, 0.05)\n",
        "    A.performance()\n",
        "    A.performance_plots()\n",
        "    model_17.append((A.capital - A.initial_capital) /A.initial_capital *100)"
      ]
    },
    {
      "cell_type": "code",
      "execution_count": null,
      "metadata": {
        "id": "XHfIH3n21xrd"
      },
      "outputs": [],
      "source": [
        "model_result = np.array(model_17)\n",
        "sorted_index = np.argsort(model_17)\n",
        "sorted_index = np.flip(sorted_index)\n",
        "sorted_index = sorted_index.tolist()\n",
        "\n",
        "top_20_models.append({'seventeenth_10':{sorted_index[0],model_result[sorted_index[0]]}})\n",
        "for index in sorted_index:\n",
        "  print('ROI for model',str(index),\"is\", model_result[index])"
      ]
    },
    {
      "cell_type": "code",
      "execution_count": null,
      "metadata": {
        "id": "8jMHCNoW1xZ6"
      },
      "outputs": [],
      "source": [
        "model_18 =[]\n",
        "\n",
        "for i in range(len(eighteenth_10)):\n",
        "    stocks = eval(eighteenth_10[i+170])\n",
        "    A = MA_RSI_Strategy(stocks, '2016-01-01', '2019-12-31',\"1d\", 500000, 0.00, False)\n",
        "    A.run_strategy(50,200, 15, 70, 30, 0.25, 0.05)\n",
        "    A.performance()\n",
        "    A.performance_plots()\n",
        "    model_18.append((A.capital - A.initial_capital) /A.initial_capital *100)"
      ]
    },
    {
      "cell_type": "code",
      "execution_count": null,
      "metadata": {
        "id": "8gFEY-ic1xYS"
      },
      "outputs": [],
      "source": [
        "model_result = np.array(model_18)\n",
        "sorted_index = np.argsort(model_18)\n",
        "sorted_index = np.flip(sorted_index)\n",
        "sorted_index = sorted_index.tolist()\n",
        "\n",
        "top_20_models.append({'eighteenth_10':{sorted_index[0],model_result[sorted_index[0]]}})\n",
        "for index in sorted_index:\n",
        "  print('ROI for model',str(index),\"is\", model_result[index])"
      ]
    },
    {
      "cell_type": "code",
      "execution_count": null,
      "metadata": {
        "id": "BS_n0uwL1xWa"
      },
      "outputs": [],
      "source": [
        "model_19 =[]\n",
        "\n",
        "for i in range(len(nineteenth_10)):\n",
        "    stocks = eval(nineteenth_10[i+180])\n",
        "    A = MA_RSI_Strategy(stocks, '2016-01-01', '2019-12-31',\"1d\", 500000, 0.00, False)\n",
        "    A.run_strategy(50,200, 15, 70, 30, 0.25, 0.05)\n",
        "    A.performance()\n",
        "    A.performance_plots()\n",
        "    model_19.append((A.capital - A.initial_capital) /A.initial_capital *100)"
      ]
    },
    {
      "cell_type": "code",
      "execution_count": null,
      "metadata": {
        "id": "i1r3n_on1xUe"
      },
      "outputs": [],
      "source": [
        "model_result = np.array(model_19)\n",
        "sorted_index = np.argsort(model_19)\n",
        "sorted_index = np.flip(sorted_index)\n",
        "sorted_index = sorted_index.tolist()\n",
        "\n",
        "top_20_models.append({'nineteenth_10':{sorted_index[0],model_result[sorted_index[0]]}})\n",
        "for index in sorted_index:\n",
        "  print('ROI for model',str(index),\"is\", model_result[index])"
      ]
    },
    {
      "cell_type": "code",
      "execution_count": null,
      "metadata": {
        "id": "x31grvOB1xSH"
      },
      "outputs": [],
      "source": [
        "model_20 =[]\n",
        "\n",
        "for i in range(len(twentieth_10)):\n",
        "    stocks = eval(twentieth_10[i+190])\n",
        "    A = MA_RSI_Strategy(stocks, '2016-01-01', '2019-12-31',\"1d\", 500000, 0.00, False)\n",
        "    A.run_strategy(50,200, 15, 70, 30, 0.25, 0.05)\n",
        "    A.performance()\n",
        "    A.performance_plots()\n",
        "    model_20.append((A.capital - A.initial_capital) /A.initial_capital *100)"
      ]
    },
    {
      "cell_type": "code",
      "execution_count": null,
      "metadata": {},
      "outputs": [],
      "source": [
        "model_result = np.array(model_20)\n",
        "sorted_index = np.argsort(model_20)\n",
        "sorted_index = np.flip(sorted_index)\n",
        "sorted_index = sorted_index.tolist()\n",
        "\n",
        "top_20_models.append({'twentieth_10':{sorted_index[0],model_result[sorted_index[0]]}})\n",
        "for index in sorted_index:\n",
        "  print('ROI for model',str(index),\"is\", model_result[index])"
      ]
    }
  ],
  "metadata": {
    "colab": {
      "provenance": []
    },
    "kernelspec": {
      "display_name": "Python 3",
      "name": "python3"
    },
    "language_info": {
      "codemirror_mode": {
        "name": "ipython",
        "version": 3
      },
      "file_extension": ".py",
      "mimetype": "text/x-python",
      "name": "python",
      "nbconvert_exporter": "python",
      "pygments_lexer": "ipython3",
      "version": "3.10.6"
    }
  },
  "nbformat": 4,
  "nbformat_minor": 0
}
